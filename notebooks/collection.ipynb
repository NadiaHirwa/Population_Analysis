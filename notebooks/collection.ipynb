{
 "cells": [
  {
   "cell_type": "markdown",
   "id": "8d8fa99f-698d-4fd9-ada2-42145c236ded",
   "metadata": {},
   "source": [
    "## Import Libraries"
   ]
  },
  {
   "cell_type": "code",
   "execution_count": 1,
   "id": "5350dddb-2ea9-4b86-b71f-f27364181176",
   "metadata": {},
   "outputs": [],
   "source": [
    "import pandas as pd\n",
    "import numpy as np\n",
    "import matplotlib.pyplot as plt\n",
    "import plotly.express as px\n",
    "from sklearn.linear_model import LinearRegression\n",
    "import wbdata\n",
    "import datetime as dt"
   ]
  },
  {
   "cell_type": "markdown",
   "id": "5a423aa5-353a-4369-90c5-bcfb2c712a66",
   "metadata": {},
   "source": [
    "\n",
    "## Define coutries and frametime"
   ]
  },
  {
   "cell_type": "markdown",
   "id": "0107dcea-688d-42f5-b79c-3d17d7316a23",
   "metadata": {},
   "source": [
    "## Fetch Population Data from World Bank"
   ]
  },
  {
   "cell_type": "code",
   "execution_count": 7,
   "id": "79dbaa21-b12a-4ac9-84b6-022a7370638e",
   "metadata": {},
   "outputs": [
    {
     "name": "stdout",
     "output_type": "stream",
     "text": [
      "✅ Population data fetched, cleaned, and saved successfully!\n"
     ]
    },
    {
     "data": {
      "text/html": [
       "<div>\n",
       "<style scoped>\n",
       "    .dataframe tbody tr th:only-of-type {\n",
       "        vertical-align: middle;\n",
       "    }\n",
       "\n",
       "    .dataframe tbody tr th {\n",
       "        vertical-align: top;\n",
       "    }\n",
       "\n",
       "    .dataframe thead th {\n",
       "        text-align: right;\n",
       "    }\n",
       "</style>\n",
       "<table border=\"1\" class=\"dataframe\">\n",
       "  <thead>\n",
       "    <tr style=\"text-align: right;\">\n",
       "      <th></th>\n",
       "      <th>country</th>\n",
       "      <th>Population</th>\n",
       "      <th>year</th>\n",
       "    </tr>\n",
       "  </thead>\n",
       "  <tbody>\n",
       "    <tr>\n",
       "      <th>4</th>\n",
       "      <td>Angola</td>\n",
       "      <td>33451132.0</td>\n",
       "      <td>2020</td>\n",
       "    </tr>\n",
       "    <tr>\n",
       "      <th>5</th>\n",
       "      <td>Angola</td>\n",
       "      <td>32375632.0</td>\n",
       "      <td>2019</td>\n",
       "    </tr>\n",
       "    <tr>\n",
       "      <th>6</th>\n",
       "      <td>Angola</td>\n",
       "      <td>31297155.0</td>\n",
       "      <td>2018</td>\n",
       "    </tr>\n",
       "    <tr>\n",
       "      <th>7</th>\n",
       "      <td>Angola</td>\n",
       "      <td>30234839.0</td>\n",
       "      <td>2017</td>\n",
       "    </tr>\n",
       "    <tr>\n",
       "      <th>8</th>\n",
       "      <td>Angola</td>\n",
       "      <td>29183070.0</td>\n",
       "      <td>2016</td>\n",
       "    </tr>\n",
       "  </tbody>\n",
       "</table>\n",
       "</div>"
      ],
      "text/plain": [
       "  country  Population  year\n",
       "4  Angola  33451132.0  2020\n",
       "5  Angola  32375632.0  2019\n",
       "6  Angola  31297155.0  2018\n",
       "7  Angola  30234839.0  2017\n",
       "8  Angola  29183070.0  2016"
      ]
     },
     "execution_count": 7,
     "metadata": {},
     "output_type": "execute_result"
    }
   ],
   "source": [
    "import wbdata\n",
    "import pandas as pd\n",
    "\n",
    "# African countries ISO codes\n",
    "african_countries = [\n",
    "    'DZA','AGO','BEN','BWA','BFA','BDI','CMR','CPV','CAF','TCD','COM','COG','COD',\n",
    "    'DJI','EGY','GNQ','ERI','SWZ','ETH','GAB','GMB','GHA','GIN','GNB','CIV','KEN',\n",
    "    'LSO','LBR','LBY','MDG','MWI','MLI','MRT','MUS','MAR','MOZ','NAM','NER','NGA',\n",
    "    'RWA','STP','SEN','SYC','SLE','SOM','ZAF','SSD','SDN','TZA','TGO','TUN','UGA',\n",
    "    'ZMB','ZWE'\n",
    "]\n",
    "\n",
    "# Indicator: Total Population\n",
    "indicator = {'SP.POP.TOTL': 'Population'}\n",
    "\n",
    "# Fetch data\n",
    "population_data = wbdata.get_dataframe(indicator, country=african_countries)\n",
    "\n",
    "# Reset index so 'date' and 'country' become columns\n",
    "population_data = population_data.reset_index()\n",
    "\n",
    "# Convert 'date' to datetime type explicitly\n",
    "population_data['date'] = pd.to_datetime(population_data['date'], errors='coerce')\n",
    "\n",
    "# Extract year\n",
    "population_data['year'] = population_data['date'].dt.year\n",
    "\n",
    "# Filter for 2000–2020\n",
    "population_data = population_data[(population_data['year'] >= 2000) & (population_data['year'] <= 2020)]\n",
    "\n",
    "# Drop the original 'date' column if you like\n",
    "population_data = population_data.drop(columns=['date'])\n",
    "\n",
    "# Save to CSV\n",
    "population_data.to_csv('../data/african_population_2000_2020.csv', index=False)\n",
    "\n",
    "print(\"✅ Population data fetched, cleaned, and saved successfully!\")\n",
    "population_data.head()"
   ]
  },
  {
   "cell_type": "code",
   "execution_count": 13,
   "id": "90607cc3-7a15-40d3-b1bf-6c471e8e97cf",
   "metadata": {},
   "outputs": [
    {
     "data": {
      "text/plain": [
       "(1134, 3)"
      ]
     },
     "execution_count": 13,
     "metadata": {},
     "output_type": "execute_result"
    }
   ],
   "source": [
    "population_data.shape"
   ]
  },
  {
   "cell_type": "code",
   "execution_count": 18,
   "id": "afd06936-b7d9-4bc7-bd72-ca71696783e5",
   "metadata": {},
   "outputs": [
    {
     "ename": "AttributeError",
     "evalue": "'Index' object has no attribute 'year'",
     "output_type": "error",
     "traceback": [
      "\u001b[1;31m---------------------------------------------------------------------------\u001b[0m",
      "\u001b[1;31mAttributeError\u001b[0m                            Traceback (most recent call last)",
      "Cell \u001b[1;32mIn[18], line 11\u001b[0m\n\u001b[0;32m      5\u001b[0m population_data \u001b[38;5;241m=\u001b[39m wbdata\u001b[38;5;241m.\u001b[39mget_dataframe(\n\u001b[0;32m      6\u001b[0m     indicator,\n\u001b[0;32m      7\u001b[0m     country\u001b[38;5;241m=\u001b[39mafrican_countries\n\u001b[0;32m      8\u001b[0m )\n\u001b[0;32m     10\u001b[0m \u001b[38;5;66;03m# Filter by date manually\u001b[39;00m\n\u001b[1;32m---> 11\u001b[0m population_data \u001b[38;5;241m=\u001b[39m population_data[(population_data\u001b[38;5;241m.\u001b[39mindex\u001b[38;5;241m.\u001b[39mget_level_values(\u001b[38;5;124m'\u001b[39m\u001b[38;5;124mdate\u001b[39m\u001b[38;5;124m'\u001b[39m)\u001b[38;5;241m.\u001b[39myear \u001b[38;5;241m>\u001b[39m\u001b[38;5;241m=\u001b[39m start_year) \u001b[38;5;241m&\u001b[39m\n\u001b[0;32m     12\u001b[0m                                   (population_data\u001b[38;5;241m.\u001b[39mindex\u001b[38;5;241m.\u001b[39mget_level_values(\u001b[38;5;124m'\u001b[39m\u001b[38;5;124mdate\u001b[39m\u001b[38;5;124m'\u001b[39m)\u001b[38;5;241m.\u001b[39myear \u001b[38;5;241m<\u001b[39m\u001b[38;5;241m=\u001b[39m end_year)]\n\u001b[0;32m     14\u001b[0m \u001b[38;5;66;03m# Reset index\u001b[39;00m\n\u001b[0;32m     15\u001b[0m population_data \u001b[38;5;241m=\u001b[39m population_data\u001b[38;5;241m.\u001b[39mreset_index()\n",
      "\u001b[1;31mAttributeError\u001b[0m: 'Index' object has no attribute 'year'"
     ]
    }
   ],
   "source": [
    "# Indicator: Total Population\n",
    "indicator = {'SP.POP.TOTL': 'Population'}\n",
    "\n",
    "# Fetch data\n",
    "population_data = wbdata.get_dataframe(\n",
    "    indicator,\n",
    "    country=african_countries\n",
    ")\n",
    "\n",
    "# Filter by date manually\n",
    "population_data = population_data[(population_data.index.get_level_values('date').year >= start_year) &\n",
    "                                  (population_data.index.get_level_values('date').year <= end_year)]\n",
    "\n",
    "# Reset index\n",
    "population_data = population_data.reset_index()\n",
    "\n",
    "# Save CSV\n",
    "population_data.to_csv('../data/african_population_2000_2020.csv', index=False)\n",
    "print(\"✅ Population data fetched and saved successfully!\")"
   ]
  }
 ],
 "metadata": {
  "kernelspec": {
   "display_name": "Python 3 (ipykernel)",
   "language": "python",
   "name": "python3"
  },
  "language_info": {
   "codemirror_mode": {
    "name": "ipython",
    "version": 3
   },
   "file_extension": ".py",
   "mimetype": "text/x-python",
   "name": "python",
   "nbconvert_exporter": "python",
   "pygments_lexer": "ipython3",
   "version": "3.12.7"
  }
 },
 "nbformat": 4,
 "nbformat_minor": 5
}
